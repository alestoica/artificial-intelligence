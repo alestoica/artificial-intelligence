{
 "cells": [
  {
   "cell_type": "markdown",
   "id": "fb6a10f8-e984-4804-ae8d-e327c631f0a3",
   "metadata": {},
   "source": [
    "# Sentiment Analysis of IMDB Reviews\n",
    "\n",
    "## Problem Definition\n",
    "Sentiment analysis, also known as opinion mining, is a natural language processing (NLP) technique used to determine the sentiment or emotional tone expressed in a piece of text.\n",
    "\n",
    "### Objective:\n",
    "The primary goal of sentiment analysis is to understand the attitude or emotional state conveyed in a text. This could range from positive, negative, or neutral sentiments.\n",
    "\n",
    "The task is to analyze the sentiment of IMDB movie reviews and classify them as either positive or negative.\n",
    "\n",
    "### Input and Output\n",
    "**Input:** The input for the algorithm is a dataset containing movie reviews from IMDB. \n",
    "\n",
    "**Features:** The primary feature is the text of the review itself.\n",
    "\n",
    "**Output:** The output is the sentiment classification of each review as either:\n",
    "- positive\n",
    "- negative\n",
    "  \n",
    "For each review, the model will output a sentiment label:\n",
    "- 1 for positive sentiment\n",
    "- 0 for negative sentiment\n",
    "\n",
    "### Machine Learning Category\n",
    "This problem falls under the category of classification in machine learning. Specifically, it is a binary classification problem because the output has two distinct classes: positive and negative sentiments.\n"
   ]
  },
  {
   "cell_type": "markdown",
   "id": "ecbcc6d7-f7bc-4d44-9d49-b7f090acf497",
   "metadata": {},
   "source": [
    "## Data Analysis and Processing"
   ]
  },
  {
   "cell_type": "markdown",
   "id": "3966c5b9-73ef-4e15-a6b2-9586f5d6bfc4",
   "metadata": {},
   "source": [
    "### Load the libraries"
   ]
  },
  {
   "cell_type": "code",
   "execution_count": 12,
   "id": "ed71ff78-4e41-4c28-81a1-db0935867a92",
   "metadata": {},
   "outputs": [],
   "source": [
    "from sklearn.feature_extraction.text import TfidfVectorizer\n",
    "from nltk.tokenize import word_tokenize\n",
    "from bs4 import BeautifulSoup\n",
    "import matplotlib\n",
    "import nltk\n",
    "import re\n",
    "import pandas as pd\n",
    "import matplotlib.pyplot as plt\n",
    "import warnings\n",
    "\n",
    "\n",
    "# matplotlib.use('TkAgg')\n",
    "%matplotlib inline\n",
    "\n",
    "warnings.filterwarnings('ignore')"
   ]
  },
  {
   "cell_type": "markdown",
   "id": "68f1a022-7bb9-4a1a-a2fa-2b72e5234a8a",
   "metadata": {},
   "source": [
    "### Visualizing the data"
   ]
  },
  {
   "cell_type": "code",
   "execution_count": 13,
   "id": "45591a3c-6814-481d-8170-3fc470569547",
   "metadata": {},
   "outputs": [
    {
     "name": "stdout",
     "output_type": "stream",
     "text": [
      "Shape of the dataset: (50000, 2) \n",
      "\n",
      "Sample of the data:\n",
      "                                               review sentiment\n",
      "0  One of the other reviewers has mentioned that ...  positive\n",
      "1  A wonderful little production. <br /><br />The...  positive\n",
      "2  I thought this was a wonderful way to spend ti...  positive\n",
      "3  Basically there's a family where a little boy ...  negative\n",
      "4  Petter Mattei's \"Love in the Time of Money\" is...  positive\n",
      "5  Probably my all-time favorite movie, a story o...  positive\n",
      "6  I sure would like to see a resurrection of a u...  positive\n",
      "7  This show was an amazing, fresh & innovative i...  negative\n",
      "8  Encouraged by the positive comments about this...  negative\n",
      "9  If you like original gut wrenching laughter yo...  positive \n",
      "\n",
      "Summary of the dataset:\n",
      "                                                    review sentiment\n",
      "count                                               50000     50000\n",
      "unique                                              49582         2\n",
      "top     Loved today's show!!! It was a variety and not...  positive\n",
      "freq                                                    5     25000 \n",
      "\n"
     ]
    },
    {
     "data": {
      "text/plain": [
       "sentiment\n",
       "positive    25000\n",
       "negative    25000\n",
       "Name: count, dtype: int64"
      ]
     },
     "execution_count": 13,
     "metadata": {},
     "output_type": "execute_result"
    }
   ],
   "source": [
    "imdb_data = pd.read_csv('dataset/IMDB Dataset.csv')\n",
    "print(\"Shape of the dataset:\", imdb_data.shape, \"\\n\")\n",
    "print(\"Sample of the data:\\n\", imdb_data.head(10), \"\\n\")\n",
    "\n",
    "# Summary of the dataset\n",
    "print(\"Summary of the dataset:\\n\", imdb_data.describe(), \"\\n\")\n",
    "\n",
    "# Sentiment count\n",
    "imdb_data['sentiment'].value_counts()"
   ]
  },
  {
   "cell_type": "markdown",
   "id": "bb61dd9a-5a12-4ca4-a41a-cc8c165435d3",
   "metadata": {},
   "source": [
    "### Data statistics"
   ]
  },
  {
   "cell_type": "code",
   "execution_count": 14,
   "id": "e44a2a1a-3ab1-4d47-8fc7-59446294fd7c",
   "metadata": {},
   "outputs": [
    {
     "data": {
      "image/png": "[encoded data removed]",
      "text/plain": [
       "<Figure size 800x600 with 1 Axes>"
      ]
     },
     "metadata": {},
     "output_type": "display_data"
    }
   ],
   "source": [
    "plt.figure(figsize=(8, 6))\n",
    "imdb_data['sentiment'].value_counts().plot(kind='bar', color=['magenta', 'orange'])\n",
    "plt.title('Number of Reviews by Sentiment')\n",
    "plt.xlabel('Sentiment')\n",
    "plt.ylabel('Number of Reviews')\n",
    "plt.xticks(rotation=0)\n",
    "plt.show()"
   ]
  },
  {
   "cell_type": "markdown",
   "id": "30fc8050-062c-4eda-9e1b-cdabbf0ae0a3",
   "metadata": {},
   "source": [
    "### Text normalisation"
   ]
  },
  {
   "cell_type": "code",
   "execution_count": 15,
   "id": "6cd5d7c3-17f8-44b7-b5ed-885b72b3f356",
   "metadata": {},
   "outputs": [
    {
     "name": "stdout",
     "output_type": "stream",
     "text": [
      "Data after reducing noise:\n",
      "                                               review sentiment\n",
      "0  One of the other reviewers has mentioned that ...  positive\n",
      "1  A wonderful little production. The filming tec...  positive\n",
      "2  I thought this was a wonderful way to spend ti...  positive\n",
      "3  Basically there's a family where a little boy ...  negative\n",
      "4  Petter Mattei's \"Love in the Time of Money\" is...  positive\n",
      "5  Probably my all-time favorite movie, a story o...  positive\n",
      "6  I sure would like to see a resurrection of a u...  positive\n",
      "7  This show was an amazing, fresh & innovative i...  negative\n",
      "8  Encouraged by the positive comments about this...  negative\n",
      "9  If you like original gut wrenching laughter yo...  positive \n",
      "\n",
      "Data after removing special characters:\n",
      "                                               review sentiment\n",
      "0  One of the other reviewers has mentioned that ...  positive\n",
      "1  A wonderful little production The filming tech...  positive\n",
      "2  I thought this was a wonderful way to spend ti...  positive\n",
      "3  Basically theres a family where a little boy J...  negative\n",
      "4  Petter Matteis Love in the Time of Money is a ...  positive\n",
      "5  Probably my alltime favorite movie a story of ...  positive\n",
      "6  I sure would like to see a resurrection of a u...  positive\n",
      "7  This show was an amazing fresh  innovative ide...  negative\n",
      "8  Encouraged by the positive comments about this...  negative\n",
      "9  If you like original gut wrenching laughter yo...  positive \n",
      "\n",
      "Data after stemming:\n",
      "                                               review sentiment\n",
      "0  one of the other review ha mention that after ...  positive\n",
      "1  a wonder littl product the film techniqu is ve...  positive\n",
      "2  i thought thi wa a wonder way to spend time on...  positive\n",
      "3  basic there a famili where a littl boy jake th...  negative\n",
      "4  petter mattei love in the time of money is a v...  positive\n",
      "5  probabl my alltim favorit movi a stori of self...  positive\n",
      "6  i sure would like to see a resurrect of a up d...  positive\n",
      "7  thi show wa an amaz fresh innov idea in the 70...  negative\n",
      "8  encourag by the posit comment about thi film o...  negative\n",
      "9  if you like origin gut wrench laughter you wil...  positive \n",
      "\n",
      "English stopwords:\n",
      " {'don', 'herself', 'y', \"shouldn't\", 'both', 'no', 'it', \"won't\", 'your', 'off', 'how', \"aren't\", 'as', 'here', 'myself', 'in', 'haven', 'have', 'our', 'yourself', 'while', 'me', \"doesn't\", 'he', 'what', 'is', 'wasn', 'about', 'doesn', 'them', 'having', 'below', 'shan', 'of', \"isn't\", 'down', 'will', \"mightn't\", 'same', 'an', 'mustn', 'because', 'above', 's', 'should', \"weren't\", 'be', 'during', 'why', 'the', 'had', 'those', 'and', 'over', 'weren', 'just', 'or', 'after', 'so', \"you've\", 'against', 'some', 're', \"needn't\", 'mightn', 'by', 'yours', 'very', 'on', 'from', 'but', 'these', \"hasn't\", 'been', 'ain', 'am', 'into', 'a', 'theirs', 'hadn', 'ourselves', 'did', 'if', 'between', 'such', \"hadn't\", 'she', 'hers', 'my', \"that'll\", 'its', 'themselves', \"should've\", \"you're\", 'each', \"mustn't\", 'up', 'll', \"don't\", 'once', 'can', 'you', 'where', 'are', 'doing', 'at', 'ours', 'd', \"you'll\", 'were', 'until', 'do', 'that', 'other', \"couldn't\", \"haven't\", 'has', 'than', 'any', 'needn', 'shouldn', 'to', \"she's\", 'further', 'they', 'again', 'under', 've', 'who', 'this', 'her', 'ma', 'i', 'o', 'with', 'their', 'does', 'his', 't', 'aren', 'for', 'there', 'through', 'whom', 'isn', 'nor', 'won', 'wouldn', 'now', 'most', \"shan't\", 'then', \"you'd\", 'all', 'yourselves', 'which', \"it's\", 'when', \"didn't\", \"wasn't\", 'hasn', 'didn', 'only', 'him', 'not', 'before', 'itself', 'was', 'm', 'few', 'more', 'too', 'out', 'himself', 'own', 'couldn', 'we', \"wouldn't\", 'being'} \n",
      "\n",
      "Data after removing the stopwords:\n",
      "                                               review sentiment\n",
      "0  one review ha mention watch 1 oz episod youll ...  positive\n",
      "1  wonder littl product film techniqu veri unassu...  positive\n",
      "2  thought thi wa wonder way spend time hot summe...  positive\n",
      "3  basic famili littl boy jake think zombi hi clo...  negative\n",
      "4  petter mattei love time money visual stun film...  positive\n",
      "5  probabl alltim favorit movi stori selfless sac...  positive\n",
      "6  sure would like see resurrect date seahunt ser...  positive\n",
      "7  thi show wa amaz fresh innov idea 70 first air...  negative\n",
      "8  encourag posit comment thi film wa look forwar...  negative\n",
      "9  like origin gut wrench laughter like thi movi ...  positive \n",
      "\n"
     ]
    }
   ],
   "source": [
    "# Removing the html strips\n",
    "def strip_html(text):\n",
    "    soup = BeautifulSoup(text, \"html.parser\")\n",
    "    return soup.get_text()\n",
    "\n",
    "\n",
    "# Removing the square brackets\n",
    "def remove_between_square_brackets(text):\n",
    "    return re.sub('\\[[^]]*\\]', '', text)\n",
    "\n",
    "\n",
    "# Removing the noisy text\n",
    "def denoise_text(text):\n",
    "    text = strip_html(text)\n",
    "    text = remove_between_square_brackets(text)\n",
    "    return text\n",
    "\n",
    "\n",
    "# Apply function on review column\n",
    "imdb_data['review'] = imdb_data['review'].apply(denoise_text)\n",
    "print(\"Data after reducing noise:\\n\", imdb_data.head(10), \"\\n\")\n",
    "\n",
    "\n",
    "# Define function for removing special characters\n",
    "def remove_special_characters(text):\n",
    "    pattern = r'[^a-zA-z0-9\\s]'\n",
    "    text = re.sub(pattern, '', text)\n",
    "    return text\n",
    "\n",
    "\n",
    "# Apply function on review column\n",
    "imdb_data['review'] = imdb_data['review'].apply(remove_special_characters)\n",
    "print(\"Data after removing special characters:\\n\", imdb_data.head(10), \"\\n\")\n",
    "\n",
    "\n",
    "# Stemming the text\n",
    "def simple_stemmer(text):\n",
    "    ps = nltk.porter.PorterStemmer()\n",
    "    text = ' '.join([ps.stem(word) for word in text.split()])\n",
    "    return text\n",
    "\n",
    "\n",
    "# Apply function on review column\n",
    "imdb_data['review'] = imdb_data['review'].apply(simple_stemmer)\n",
    "print(\"Data after stemming:\\n\", imdb_data.head(10), \"\\n\")\n",
    "\n",
    "\n",
    "# Setting English stopwords\n",
    "stop = set(nltk.corpus.stopwords.words('english'))\n",
    "print(\"English stopwords:\\n\", stop, \"\\n\")\n",
    "\n",
    "\n",
    "# Removing the stopwords\n",
    "def remove_stopwords(text, is_lower_case=False):\n",
    "    tokens = word_tokenize(text)\n",
    "    tokens = [token.strip() for token in tokens]\n",
    "\n",
    "    if is_lower_case:\n",
    "        filtered_tokens = [token for token in tokens if token not in stop]\n",
    "    else:\n",
    "        filtered_tokens = [token for token in tokens if token.lower() not in stop]\n",
    "\n",
    "    filtered_text = ' '.join(filtered_tokens)\n",
    "    return filtered_text\n",
    "\n",
    "\n",
    "# Apply function on review column\n",
    "imdb_data['review'] = imdb_data['review'].apply(remove_stopwords)\n",
    "print(\"Data after removing the stopwords:\\n\", imdb_data.head(10), \"\\n\")"
   ]
  },
  {
   "cell_type": "markdown",
   "id": "677667be-c184-433a-a3db-b3c395a5ff6c",
   "metadata": {},
   "source": [
    "### Correlation analysis"
   ]
  },
  {
   "cell_type": "code",
   "execution_count": 16,
   "id": "1c46f2d9-00a2-4e66-93f4-b44bc4d7d0ee",
   "metadata": {},
   "outputs": [
    {
     "name": "stdout",
     "output_type": "stream",
     "text": [
      "Correlation analysis:\n",
      " sentiment    1.000000\n",
      "great        0.211564\n",
      "love         0.174257\n",
      "excel        0.165048\n",
      "best         0.151858\n",
      "               ...   \n",
      "bore        -0.159343\n",
      "aw          -0.178836\n",
      "wast        -0.215724\n",
      "worst       -0.235052\n",
      "bad         -0.263772\n",
      "Name: sentiment, Length: 1001, dtype: float64 \n",
      "\n"
     ]
    }
   ],
   "source": [
    "imdb_data['sentiment'] = imdb_data['sentiment'].map({'positive': 1, 'negative': 0})\n",
    "\n",
    "# Instantiate the vectorizer\n",
    "vectorizer = TfidfVectorizer(max_features=1000)\n",
    "\n",
    "# Fit and transform the review text\n",
    "tfidf_matrix = vectorizer.fit_transform(imdb_data['review'])\n",
    "print(tfidf_matrix)\n",
    "\n",
    "# Convert to a DataFrame\n",
    "tfidf_df = pd.DataFrame(tfidf_matrix.toarray(), columns=vectorizer.get_feature_names_out())\n",
    "\n",
    "# Add the sentiment column to the tfidf dataframe\n",
    "tfidf_df['sentiment'] = imdb_data['sentiment']\n",
    "\n",
    "# Compute the correlation matrix\n",
    "correlation_matrix = tfidf_df.corr()\n",
    "\n",
    "# Get the correlation of each feature with the sentiment\n",
    "sentiment_correlation = correlation_matrix['sentiment'].sort_values(ascending=False)\n",
    "\n",
    "print(\"Correlation analysis:\\n\", sentiment_correlation, \"\\n\")"
   ]
  },
  {
   "cell_type": "code",
   "execution_count": null,
   "id": "302e2ae4-9851-44a6-be36-0b385481fe05",
   "metadata": {},
   "outputs": [],
   "source": []
  }
 ],
 "metadata": {
  "kernelspec": {
   "display_name": "Python 3 (ipykernel)",
   "language": "python",
   "name": "python3"
  },
  "language_info": {
   "codemirror_mode": {
    "name": "ipython",
    "version": 3
   },
   "file_extension": ".py",
   "mimetype": "text/x-python",
   "name": "python",
   "nbconvert_exporter": "python",
   "pygments_lexer": "ipython3",
   "version": "3.10.7"
  }
 },
 "nbformat": 4,
 "nbformat_minor": 5
}
