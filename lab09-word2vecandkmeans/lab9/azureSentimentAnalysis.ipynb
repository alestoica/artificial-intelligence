{
 "cells": [
  {
   "cell_type": "code",
   "execution_count": 1,
   "id": "ee7bfc7c-4356-4fe0-b63a-2a1323d95e64",
   "metadata": {},
   "outputs": [
    {
     "name": "stdout",
     "output_type": "stream",
     "text": [
      "Requirement already satisfied: azure-ai-textanalytics==5.2.0 in c:\\users\\alest\\appdata\\local\\programs\\python\\python310\\lib\\site-packages (5.2.0)\n",
      "Requirement already satisfied: azure-core<2.0.0,>=1.24.0 in c:\\users\\alest\\appdata\\local\\programs\\python\\python310\\lib\\site-packages (from azure-ai-textanalytics==5.2.0) (1.30.1)\n",
      "Requirement already satisfied: msrest>=0.7.0 in c:\\users\\alest\\appdata\\local\\programs\\python\\python310\\lib\\site-packages (from azure-ai-textanalytics==5.2.0) (0.7.1)\n",
      "Requirement already satisfied: azure-common~=1.1 in c:\\users\\alest\\appdata\\local\\programs\\python\\python310\\lib\\site-packages (from azure-ai-textanalytics==5.2.0) (1.1.28)\n",
      "Requirement already satisfied: typing-extensions>=4.0.1 in c:\\users\\alest\\appdata\\local\\programs\\python\\python310\\lib\\site-packages (from azure-ai-textanalytics==5.2.0) (4.8.0)\n",
      "Requirement already satisfied: requests>=2.21.0 in c:\\users\\alest\\appdata\\local\\programs\\python\\python310\\lib\\site-packages (from azure-core<2.0.0,>=1.24.0->azure-ai-textanalytics==5.2.0) (2.31.0)\n",
      "Requirement already satisfied: six>=1.11.0 in c:\\users\\alest\\appdata\\local\\programs\\python\\python310\\lib\\site-packages (from azure-core<2.0.0,>=1.24.0->azure-ai-textanalytics==5.2.0) (1.16.0)\n",
      "Requirement already satisfied: certifi>=2017.4.17 in c:\\users\\alest\\appdata\\local\\programs\\python\\python310\\lib\\site-packages (from msrest>=0.7.0->azure-ai-textanalytics==5.2.0) (2022.9.24)\n",
      "Requirement already satisfied: isodate>=0.6.0 in c:\\users\\alest\\appdata\\local\\programs\\python\\python310\\lib\\site-packages (from msrest>=0.7.0->azure-ai-textanalytics==5.2.0) (0.6.1)\n",
      "Requirement already satisfied: requests-oauthlib>=0.5.0 in c:\\users\\alest\\appdata\\local\\programs\\python\\python310\\lib\\site-packages (from msrest>=0.7.0->azure-ai-textanalytics==5.2.0) (1.4.0)\n",
      "Requirement already satisfied: charset-normalizer<4,>=2 in c:\\users\\alest\\appdata\\local\\programs\\python\\python310\\lib\\site-packages (from requests>=2.21.0->azure-core<2.0.0,>=1.24.0->azure-ai-textanalytics==5.2.0) (2.1.1)\n",
      "Requirement already satisfied: idna<4,>=2.5 in c:\\users\\alest\\appdata\\local\\programs\\python\\python310\\lib\\site-packages (from requests>=2.21.0->azure-core<2.0.0,>=1.24.0->azure-ai-textanalytics==5.2.0) (3.4)\n",
      "Requirement already satisfied: urllib3<3,>=1.21.1 in c:\\users\\alest\\appdata\\local\\programs\\python\\python310\\lib\\site-packages (from requests>=2.21.0->azure-core<2.0.0,>=1.24.0->azure-ai-textanalytics==5.2.0) (1.26.12)\n",
      "Requirement already satisfied: oauthlib>=3.0.0 in c:\\users\\alest\\appdata\\local\\programs\\python\\python310\\lib\\site-packages (from requests-oauthlib>=0.5.0->msrest>=0.7.0->azure-ai-textanalytics==5.2.0) (3.2.2)\n",
      "Note: you may need to restart the kernel to use updated packages.\n"
     ]
    }
   ],
   "source": [
    "import textanalytics as textanalytics\n",
    "\n",
    "pip install azure-ai-textanalytics==5.2.0"
   ]
  },
  {
   "cell_type": "code",
   "execution_count": 2,
   "id": "442b0ab6-9ef5-4aca-81b6-fb1dcc60f790",
   "metadata": {},
   "outputs": [],
   "source": [
    "import os\n",
    "from azure.core.credentials import AzureKeyCredential\n",
    "from azure.ai.textanalytics import TextAnalyticsClient"
   ]
  },
  {
   "cell_type": "code",
   "execution_count": 3,
   "id": "913367b5-555b-4aa9-815b-e64dfb6da2ce",
   "metadata": {},
   "outputs": [],
   "source": [
    "endpoint = os.environ[\"LANGUAGE_ENDPOINT\"]\n",
    "key = os.environ[\"LANGUAGE_KEY\"]\n",
    "\n",
    "client = TextAnalyticsClient(endpoint=endpoint, credential=AzureKeyCredential(key))"
   ]
  },
  {
   "cell_type": "code",
   "execution_count": 4,
   "id": "005782fc-87c8-485b-954e-9f82aee244c5",
   "metadata": {},
   "outputs": [
    {
     "name": "stdout",
     "output_type": "stream",
     "text": [
      "Let's visualize the sentiment of this text: \n",
      "Document text: By choosing a bike over a car, I’m reducing my environmental footprint. Cycling promotes eco-friendly transportation, and I’m proud to be part of that movement..\n",
      "Overall sentiment: positive\n"
     ]
    }
   ],
   "source": [
    "data = [\"By choosing a bike over a car, I’m reducing my environmental footprint. Cycling promotes eco-friendly\"\n",
    "        \" transportation, and I’m proud to be part of that movement..\"]\n",
    "\n",
    "result = client.analyze_sentiment(data, show_opinion_mining=True)\n",
    "docs = [doc for doc in result if not doc.is_error]\n",
    "\n",
    "print(\"Let's visualize the sentiment of this text: \")\n",
    "for idx, doc in enumerate(docs):\n",
    "    print(f\"Document text: {data[idx]}\")\n",
    "    print(f\"Overall sentiment: {doc.sentiment}\")"
   ]
  },
  {
   "cell_type": "code",
   "execution_count": null,
   "id": "3422f0a7-8975-4c1e-acde-b4bf62d52ca6",
   "metadata": {},
   "outputs": [],
   "source": []
  }
 ],
 "metadata": {
  "kernelspec": {
   "display_name": "Python 3 (ipykernel)",
   "language": "python",
   "name": "python3"
  },
  "language_info": {
   "codemirror_mode": {
    "name": "ipython",
    "version": 3
   },
   "file_extension": ".py",
   "mimetype": "text/x-python",
   "name": "python",
   "nbconvert_exporter": "python",
   "pygments_lexer": "ipython3",
   "version": "3.10.7"
  }
 },
 "nbformat": 4,
 "nbformat_minor": 5
}
